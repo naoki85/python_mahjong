{
 "cells": [
  {
   "cell_type": "markdown",
   "metadata": {
    "nbpresent": {
     "id": "bb78b40a-caaa-47c0-bfa8-9deffaddc2e4"
    }
   },
   "source": [
    "# 配牌からあがれる可能性を予測する！（その２　教師データの作成）"
   ]
  },
  {
   "cell_type": "markdown",
   "metadata": {
    "nbpresent": {
     "id": "f4b2426e-3fda-4724-9715-e3777cde36b9"
    }
   },
   "source": [
    "こんにちは、Taroです。  \n",
    "前回の記事はこちらになります。  \n",
    "[配牌からあがれる可能性を予測する！（その１　推論処理）](https://nowdeveloping.blogspot.jp/)  \n",
    "今回は学習を実装する、と記載しましたが、その前に教師データを取得する方法を実装したいと思います。  \n",
    "今回はDeep LearningというよりはPythonの勉強といった感じです。"
   ]
  },
  {
   "cell_type": "markdown",
   "metadata": {
    "nbpresent": {
     "id": "8f0fa0cb-51ad-4870-9e4d-e035b9cbbdca"
    }
   },
   "source": [
    "## 教師データの選定\n",
    "\n",
    "麻雀のようなギャンブルにおいて、教師になるデータは何なのか？  \n",
    "考え出すとキリがなさそうなので、ひとまずプロの対局からデータを作成しました。  \n",
    "プロであれば、（もちろん技術や個性、状況で異なってくるとは思いますが）あがりやすい配牌は必ず仕上げてくれるはずです。  \n",
    "そのため、Youtubeでプロの対局を見続けました（ある種これが苦行かもしれません笑）。  \n",
    "  \n",
    "余談ですが、個人的に好きなプロ雀士は土田浩翔プロです。  "
   ]
  },
  {
   "cell_type": "markdown",
   "metadata": {
    "nbpresent": {
     "id": "41826e01-b925-4d2a-b4bc-212d15000a43"
    }
   },
   "source": [
    "## CSVファイルの作成\n",
    "\n",
    "教師データはCSVファイルにまとめます。  \n",
    "今回必要なデータは、 **配牌** と **結果** なので、下記のようにまとめました。  \n",
    "\n",
    "|tile_1|tile_2|tile_3|tile_4|tile_5|tile_6|tile_7|tile_8|tile_9|tile_10|tile_11|tile_12|tile_13|win|loss|\n",
    "|:--:|:--:|:--:|:--:|:--:|:--:|:--:|:--:|:--:|:--:|:--:|:--:|:--:|:--:|:--:|\n",
    "|11|13|17|21|25|27|29|31|31|31|35|43|47|1|0|\n",
    "\n",
    "このデータを読み込んでいきたいと思います。"
   ]
  },
  {
   "cell_type": "markdown",
   "metadata": {
    "nbpresent": {
     "id": "45783283-7393-4271-8cfe-a7f5c27e17b1"
    }
   },
   "source": [
    "## CSVファイルの読み込み\n",
    "\n",
    "Pythonの`csv`モジュールを利用して簡単に実装します。  \n",
    "（というよりこれくらいしか分からない。。。）"
   ]
  },
  {
   "cell_type": "code",
   "execution_count": 2,
   "metadata": {
    "collapsed": true,
    "nbpresent": {
     "id": "a313c8ff-49b2-4fae-9a9b-4ea1e6356b6b"
    }
   },
   "outputs": [],
   "source": [
    "def load_trainig_data(self):\n",
    "    u\"\"\"\n",
    "    CSVファイルから教師データを読み込み、データを返します。\n",
    "    @return array\n",
    "    [0]で教師データの配牌、[1]で結果を返します\n",
    "    \"\"\"\n",
    "    with open('csv/training_data.csv', 'r', newline='') as csvfile:\n",
    "        reader = csv.reader(csvfile)\n",
    "        header = next(reader)\n",
    "        hand = []\n",
    "        results = []\n",
    "        for row in reader:\n",
    "            tmp_hand = []\n",
    "            for tile in range(0, 12):\n",
    "                tmp_hand.append(row[tile])\n",
    "\n",
    "            results.append([row[13], row[14]])\n",
    "            hand.append(tmp_hand)\n",
    "\n",
    "    return hand, results"
   ]
  },
  {
   "cell_type": "markdown",
   "metadata": {},
   "source": [
    "このメソッドをMyHandクラスに追加しました。"
   ]
  },
  {
   "cell_type": "code",
   "execution_count": 3,
   "metadata": {
    "collapsed": false
   },
   "outputs": [],
   "source": [
    "from my_hand import *\n",
    "my_hand = MyHand()\n",
    "input_data, results = my_hand.load_trainig_data()"
   ]
  },
  {
   "cell_type": "code",
   "execution_count": 4,
   "metadata": {
    "collapsed": false
   },
   "outputs": [
    {
     "name": "stdout",
     "output_type": "stream",
     "text": [
      "[['47', '26', '17', '21', '47', '12', '42', '43', '34', '15', '45', '37'], ['42', '42', '41', '17', '39', '21', '39', '15', '37', '11', '11', '21'], ['47', '35', '22', '22', '23', '26', '12', '13', '17', '18', '39', '38'], ['22', '24', '24', '25', '28', '31', '32', '33', '13', '13', '14', '16'], ['41', '47', '31', '12', '29', '18', '45', '34', '19', '22', '18', '39'], ['46', '15', '15', '16', '16', '47', '45', '11', '43', '32', '34', '27'], ['41', '41', '43', '44', '44', '17', '14', '13', '13', '23', '23', '33'], ['35', '38', '39', '39', '23', '25', '26', '27', '28', '16', '42', '42'], ['45', '47', '39', '44', '43', '21', '36', '27', '13', '32', '39', '16'], ['21', '28', '32', '35', '21', '23', '35', '12', '18', '37', '45', '14'], ['12', '14', '15', '17', '41', '44', '34', '35', '22', '23', '23', '26'], ['24', '24', '29', '31', '32', '36', '37', '38', '39', '13', '17', '47']]\n"
     ]
    }
   ],
   "source": [
    "print(input_data)"
   ]
  },
  {
   "cell_type": "code",
   "execution_count": 5,
   "metadata": {
    "collapsed": false
   },
   "outputs": [
    {
     "name": "stdout",
     "output_type": "stream",
     "text": [
      "[['0', '1'], ['1', '0'], ['0', '1'], ['0', '1'], ['0', '1'], ['0', '1'], ['1', '0'], ['0', '0'], ['1', '0'], ['0', '0'], ['0', '0'], ['0', '0']]\n"
     ]
    }
   ],
   "source": [
    "print(results)"
   ]
  },
  {
   "cell_type": "markdown",
   "metadata": {},
   "source": [
    "これだとちょっと分かりづらいので、1つ目の要素だけ抜き出します。"
   ]
  },
  {
   "cell_type": "code",
   "execution_count": 6,
   "metadata": {
    "collapsed": false
   },
   "outputs": [
    {
     "name": "stdout",
     "output_type": "stream",
     "text": [
      "['47', '26', '17', '21', '47', '12', '42', '43', '34', '15', '45', '37']\n"
     ]
    }
   ],
   "source": [
    "print(input_data[0])"
   ]
  },
  {
   "cell_type": "code",
   "execution_count": 8,
   "metadata": {
    "collapsed": false
   },
   "outputs": [
    {
     "name": "stdout",
     "output_type": "stream",
     "text": [
      "['0', '1']\n"
     ]
    }
   ],
   "source": [
    "print(results[0])"
   ]
  },
  {
   "cell_type": "markdown",
   "metadata": {},
   "source": [
    "これで、教師データが読み込めました。  \n",
    "（これで正しいのかは置いておきます笑）\n",
    "\n",
    "## Jupyter Notebookで書いてみたよ！"
   ]
  },
  {
   "cell_type": "markdown",
   "metadata": {},
   "source": [
    "`Jupyter`という単語は見たことがあったのですが、ずっとライブラリの1つだと思っていました笑。  \n",
    "実はエディタのようで、データサイエンティストの人などが、実際に実行したプログラムを確認しながら文章を書いたりするもののようです。  \n",
    "`Anaconda`をインストールすると一緒についてきます。  \n",
    "詳しいことは、他の諸先輩方が記述しておりますので、割愛しますが、本記事も下図のように書きました。"
   ]
  },
  {
   "cell_type": "markdown",
   "metadata": {},
   "source": [
    "プロジェクト上に配置しておけば、自作のコードも読み込んで実行してくれます。  \n",
    "Python以外の言語もサポートしているようなので、コードと実行結果をブログにのせたいときは使用を検討しても良いのではないでしょうか？"
   ]
  },
  {
   "cell_type": "markdown",
   "metadata": {},
   "source": [
    "## 最後に\n",
    "\n",
    "今回のソースコードは下記になります。  \n",
    "Jupyter Notebookで作成したファイルは`.ipynb`拡張子で保存されています。  \n",
    "[]()  \n",
    "次回は、今度こそ学習ロジックの実装をしたいと思います！"
   ]
  }
 ],
 "metadata": {
  "kernelspec": {
   "display_name": "Python [conda root]",
   "language": "python",
   "name": "conda-root-py"
  },
  "language_info": {
   "codemirror_mode": {
    "name": "ipython",
    "version": 3
   },
   "file_extension": ".py",
   "mimetype": "text/x-python",
   "name": "python",
   "nbconvert_exporter": "python",
   "pygments_lexer": "ipython3",
   "version": "3.5.2"
  }
 },
 "nbformat": 4,
 "nbformat_minor": 1
}
