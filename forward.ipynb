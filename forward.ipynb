{
 "cells": [
  {
   "cell_type": "code",
   "execution_count": 1,
   "metadata": {
    "collapsed": true
   },
   "outputs": [],
   "source": [
    "from classes.my_hand import *\n",
    "from classes.pretreatment import *\n",
    "from classes.one_layer_net import *"
   ]
  },
  {
   "cell_type": "code",
   "execution_count": 34,
   "metadata": {
    "collapsed": false
   },
   "outputs": [],
   "source": [
    "my_hand = MyHand()\n",
    "initial_my_hand = my_hand.input_my_hand_tmp([12,13,18,18,22,23,27,28,29,32,36,37,37])"
   ]
  },
  {
   "cell_type": "code",
   "execution_count": 35,
   "metadata": {
    "collapsed": true
   },
   "outputs": [],
   "source": [
    "pretreatment = Pretreatment()\n",
    "input_data = pretreatment.get_list_pretreatments(initial_my_hand)"
   ]
  },
  {
   "cell_type": "code",
   "execution_count": 36,
   "metadata": {
    "collapsed": false
   },
   "outputs": [
    {
     "name": "stdout",
     "output_type": "stream",
     "text": [
      "重み\n",
      "[[ 0.17258578 -0.17396835]\n",
      " [ 0.20088727 -0.20564398]\n",
      " [-0.33262621  0.34681625]]\n",
      "バイアス\n",
      "[-1.07893278  1.07893278]\n",
      "結果\n",
      "[ 0.26928584  0.73071416]\n"
     ]
    }
   ],
   "source": [
    "one_layer_net = OneLayerNetwork(3, 2)\n",
    "one_layer_net.load_parameters_from_pickle()\n",
    "print(\"重み\")\n",
    "print(one_layer_net.params['W'])\n",
    "print(\"バイアス\")\n",
    "print(one_layer_net.params['b'])\n",
    "result = one_layer_net.predict(input_data)\n",
    "print(\"結果\")\n",
    "print(result)"
   ]
  },
  {
   "cell_type": "code",
   "execution_count": null,
   "metadata": {
    "collapsed": true
   },
   "outputs": [],
   "source": []
  }
 ],
 "metadata": {
  "anaconda-cloud": {},
  "kernelspec": {
   "display_name": "Python [conda root]",
   "language": "python",
   "name": "conda-root-py"
  },
  "language_info": {
   "codemirror_mode": {
    "name": "ipython",
    "version": 3
   },
   "file_extension": ".py",
   "mimetype": "text/x-python",
   "name": "python",
   "nbconvert_exporter": "python",
   "pygments_lexer": "ipython3",
   "version": "3.5.2"
  }
 },
 "nbformat": 4,
 "nbformat_minor": 1
}
